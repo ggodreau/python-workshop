{
 "cells": [
  {
   "cell_type": "code",
   "execution_count": 46,
   "metadata": {},
   "outputs": [],
   "source": [
    "import requests\n",
    "from bs4 import BeautifulSoup\n",
    "import pandas as pd"
   ]
  },
  {
   "cell_type": "code",
   "execution_count": 13,
   "metadata": {},
   "outputs": [],
   "source": [
    "page = requests.get('https://www.realtyaustin.com/idx/search.html?refine=true&ra_agent=&from_snippet=true&sortorder=DESC-ListingPrice&map%5Blongitude%5D=-97.66791999999998&map%5Blatitude%5D=30.343362428541788&map%5Bzoom%5D=10&usearch%5Bsearch_zip%5D%5B%5D=78749&search_source%5B%5D=Pocket+Listing&search_source%5B%5D=Austin+MLS&search_status%5B%5D=Coming+Soon&search_status%5B%5D=Active&search_status%5B%5D=Active+Contingent&search_status%5B%5D=Pending+-+Taking+Backups&idx=abor&minimum_price=&maximum_price=&minimum_year=&maximum_year=&maximum_dom=&maximum_reduced=&minimum_bedrooms=&maximum_bedrooms=&minimum_bathrooms=&maximum_bathrooms=&minimum_acres=&maximum_acres=&minimum_sqft=&maximum_sqft=&stories=&garages=&place_zip=&place_lat=&place_lng=&place_zoom=&place_adr=&dt_direction=&dt_address=&dt_arrival_time=&dt_travel_duration=&map%5Bpolygon%5D=&map%5Bradius%5D=')"
   ]
  },
  {
   "cell_type": "code",
   "execution_count": 15,
   "metadata": {},
   "outputs": [],
   "source": [
    "soup = BeautifulSoup(page.content, 'html.parser')"
   ]
  },
  {
   "cell_type": "code",
   "execution_count": 10,
   "metadata": {},
   "outputs": [],
   "source": [
    "df_dict = {}"
   ]
  },
  {
   "cell_type": "code",
   "execution_count": 48,
   "metadata": {},
   "outputs": [],
   "source": [
    "dataHeader = ('address', 'location', 'mlsid', 'status')\n",
    "\n",
    "for dataName in dataHeader:\n",
    "    df_dict[dataName] = []\n",
    "    for i in soup.findAll('div', {'class': 'articleset listings colset_4'})[0]\\\n",
    "        .findAll('li', {'class': 'data-' + dataName}):\n",
    "            df_dict[dataName].append(i.text.strip())"
   ]
  },
  {
   "cell_type": "code",
   "execution_count": 51,
   "metadata": {},
   "outputs": [
    {
     "data": {
      "text/html": [
       "<div>\n",
       "<style scoped>\n",
       "    .dataframe tbody tr th:only-of-type {\n",
       "        vertical-align: middle;\n",
       "    }\n",
       "\n",
       "    .dataframe tbody tr th {\n",
       "        vertical-align: top;\n",
       "    }\n",
       "\n",
       "    .dataframe thead th {\n",
       "        text-align: right;\n",
       "    }\n",
       "</style>\n",
       "<table border=\"1\" class=\"dataframe\">\n",
       "  <thead>\n",
       "    <tr style=\"text-align: right;\">\n",
       "      <th></th>\n",
       "      <th>address</th>\n",
       "      <th>location</th>\n",
       "      <th>mlsid</th>\n",
       "      <th>status</th>\n",
       "    </tr>\n",
       "  </thead>\n",
       "  <tbody>\n",
       "    <tr>\n",
       "      <th>0</th>\n",
       "      <td>6612 Debcoe Dr</td>\n",
       "      <td>Austin, TX 78749</td>\n",
       "      <td>MLS® #: 7068034</td>\n",
       "      <td>Active</td>\n",
       "    </tr>\n",
       "    <tr>\n",
       "      <th>1</th>\n",
       "      <td>4608 Chesney Ridge Dr</td>\n",
       "      <td>Austin, TX 78749</td>\n",
       "      <td>MLS® #: 3972108</td>\n",
       "      <td>Active</td>\n",
       "    </tr>\n",
       "    <tr>\n",
       "      <th>2</th>\n",
       "      <td>7200 Via Correto Dr</td>\n",
       "      <td>Austin, TX 78749</td>\n",
       "      <td>MLS® #: 3776027</td>\n",
       "      <td>Pending</td>\n",
       "    </tr>\n",
       "    <tr>\n",
       "      <th>3</th>\n",
       "      <td>7016 Bending Oak Rd</td>\n",
       "      <td>Austin, TX 78749</td>\n",
       "      <td>MLS® #: 5545469</td>\n",
       "      <td>Pending</td>\n",
       "    </tr>\n",
       "    <tr>\n",
       "      <th>4</th>\n",
       "      <td>N/a</td>\n",
       "      <td>Austin, TX 78749</td>\n",
       "      <td>MLS® #: 1977889</td>\n",
       "      <td>Active</td>\n",
       "    </tr>\n",
       "    <tr>\n",
       "      <th>5</th>\n",
       "      <td>- Convict Hill Rd</td>\n",
       "      <td>Austin, TX 78749</td>\n",
       "      <td>MLS® #: 4727844</td>\n",
       "      <td>Active</td>\n",
       "    </tr>\n",
       "    <tr>\n",
       "      <th>6</th>\n",
       "      <td>7120 Via Correto Dr</td>\n",
       "      <td>Austin, TX 78749</td>\n",
       "      <td>MLS® #: 9842133</td>\n",
       "      <td>Active</td>\n",
       "    </tr>\n",
       "    <tr>\n",
       "      <th>7</th>\n",
       "      <td>9508 Lynnhaven St</td>\n",
       "      <td>Austin, TX 78749</td>\n",
       "      <td>MLS® #: 6724637</td>\n",
       "      <td>Active</td>\n",
       "    </tr>\n",
       "  </tbody>\n",
       "</table>\n",
       "</div>"
      ],
      "text/plain": [
       "                 address          location            mlsid   status\n",
       "0         6612 Debcoe Dr  Austin, TX 78749  MLS® #: 7068034   Active\n",
       "1  4608 Chesney Ridge Dr  Austin, TX 78749  MLS® #: 3972108   Active\n",
       "2    7200 Via Correto Dr  Austin, TX 78749  MLS® #: 3776027  Pending\n",
       "3    7016 Bending Oak Rd  Austin, TX 78749  MLS® #: 5545469  Pending\n",
       "4                    N/a  Austin, TX 78749  MLS® #: 1977889   Active\n",
       "5      - Convict Hill Rd  Austin, TX 78749  MLS® #: 4727844   Active\n",
       "6    7120 Via Correto Dr  Austin, TX 78749  MLS® #: 9842133   Active\n",
       "7      9508 Lynnhaven St  Austin, TX 78749  MLS® #: 6724637   Active"
      ]
     },
     "execution_count": 51,
     "metadata": {},
     "output_type": "execute_result"
    }
   ],
   "source": [
    "pd.DataFrame.from_dict(df_dict).head(8)"
   ]
  },
  {
   "cell_type": "code",
   "execution_count": null,
   "metadata": {},
   "outputs": [],
   "source": []
  }
 ],
 "metadata": {
  "kernelspec": {
   "display_name": "Python 3",
   "language": "python",
   "name": "python3"
  },
  "language_info": {
   "codemirror_mode": {
    "name": "ipython",
    "version": 3
   },
   "file_extension": ".py",
   "mimetype": "text/x-python",
   "name": "python",
   "nbconvert_exporter": "python",
   "pygments_lexer": "ipython3",
   "version": "3.6.3"
  }
 },
 "nbformat": 4,
 "nbformat_minor": 2
}
